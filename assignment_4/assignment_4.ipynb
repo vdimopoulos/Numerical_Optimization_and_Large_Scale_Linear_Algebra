{
 "cells": [
  {
   "cell_type": "markdown",
   "id": "0be7fd32",
   "metadata": {},
   "source": [
    "# Pagerank Assignment\n",
    "Vasileios Dimopoulos"
   ]
  },
  {
   "cell_type": "markdown",
   "id": "b638697d",
   "metadata": {},
   "source": [
    "Below we weill create method that produces a sparse Transition Matrix from our Dataframe"
   ]
  },
  {
   "cell_type": "code",
   "execution_count": 1,
   "id": "573c5b7f",
   "metadata": {},
   "outputs": [],
   "source": [
    "import pandas as pd\n",
    "import numpy as np"
   ]
  },
  {
   "cell_type": "code",
   "execution_count": 2,
   "id": "f78667fd",
   "metadata": {},
   "outputs": [
    {
     "data": {
      "text/html": [
       "<div>\n",
       "<style scoped>\n",
       "    .dataframe tbody tr th:only-of-type {\n",
       "        vertical-align: middle;\n",
       "    }\n",
       "\n",
       "    .dataframe tbody tr th {\n",
       "        vertical-align: top;\n",
       "    }\n",
       "\n",
       "    .dataframe thead th {\n",
       "        text-align: right;\n",
       "    }\n",
       "</style>\n",
       "<table border=\"1\" class=\"dataframe\">\n",
       "  <thead>\n",
       "    <tr style=\"text-align: right;\">\n",
       "      <th></th>\n",
       "      <th>0</th>\n",
       "      <th>1</th>\n",
       "      <th>2</th>\n",
       "    </tr>\n",
       "  </thead>\n",
       "  <tbody>\n",
       "    <tr>\n",
       "      <th>0</th>\n",
       "      <td>1</td>\n",
       "      <td>6548</td>\n",
       "      <td>0.500000</td>\n",
       "    </tr>\n",
       "    <tr>\n",
       "      <th>1</th>\n",
       "      <td>1</td>\n",
       "      <td>15409</td>\n",
       "      <td>0.500000</td>\n",
       "    </tr>\n",
       "    <tr>\n",
       "      <th>2</th>\n",
       "      <td>2</td>\n",
       "      <td>252915</td>\n",
       "      <td>0.032258</td>\n",
       "    </tr>\n",
       "    <tr>\n",
       "      <th>3</th>\n",
       "      <td>2</td>\n",
       "      <td>246897</td>\n",
       "      <td>0.032258</td>\n",
       "    </tr>\n",
       "    <tr>\n",
       "      <th>4</th>\n",
       "      <td>2</td>\n",
       "      <td>251658</td>\n",
       "      <td>0.032258</td>\n",
       "    </tr>\n",
       "    <tr>\n",
       "      <th>...</th>\n",
       "      <td>...</td>\n",
       "      <td>...</td>\n",
       "      <td>...</td>\n",
       "    </tr>\n",
       "    <tr>\n",
       "      <th>2382907</th>\n",
       "      <td>281903</td>\n",
       "      <td>216688</td>\n",
       "      <td>0.142857</td>\n",
       "    </tr>\n",
       "    <tr>\n",
       "      <th>2382908</th>\n",
       "      <td>281903</td>\n",
       "      <td>90591</td>\n",
       "      <td>0.142857</td>\n",
       "    </tr>\n",
       "    <tr>\n",
       "      <th>2382909</th>\n",
       "      <td>281903</td>\n",
       "      <td>94440</td>\n",
       "      <td>0.142857</td>\n",
       "    </tr>\n",
       "    <tr>\n",
       "      <th>2382910</th>\n",
       "      <td>281903</td>\n",
       "      <td>56088</td>\n",
       "      <td>0.142857</td>\n",
       "    </tr>\n",
       "    <tr>\n",
       "      <th>2382911</th>\n",
       "      <td>281903</td>\n",
       "      <td>44103</td>\n",
       "      <td>0.142857</td>\n",
       "    </tr>\n",
       "  </tbody>\n",
       "</table>\n",
       "<p>2382912 rows × 3 columns</p>\n",
       "</div>"
      ],
      "text/plain": [
       "              0       1         2\n",
       "0             1    6548  0.500000\n",
       "1             1   15409  0.500000\n",
       "2             2  252915  0.032258\n",
       "3             2  246897  0.032258\n",
       "4             2  251658  0.032258\n",
       "...         ...     ...       ...\n",
       "2382907  281903  216688  0.142857\n",
       "2382908  281903   90591  0.142857\n",
       "2382909  281903   94440  0.142857\n",
       "2382910  281903   56088  0.142857\n",
       "2382911  281903   44103  0.142857\n",
       "\n",
       "[2382912 rows x 3 columns]"
      ]
     },
     "execution_count": 2,
     "metadata": {},
     "output_type": "execute_result"
    }
   ],
   "source": [
    "df = pd.read_csv('stanweb.dat',delimiter='\\t',header=None)\n",
    "df"
   ]
  },
  {
   "cell_type": "code",
   "execution_count": 3,
   "id": "67d2320d",
   "metadata": {},
   "outputs": [
    {
     "data": {
      "text/plain": [
       "281903"
      ]
     },
     "execution_count": 3,
     "metadata": {},
     "output_type": "execute_result"
    }
   ],
   "source": [
    "number_nodes = max(df[0].max(),df[1].max())\n",
    "number_nodes"
   ]
  },
  {
   "cell_type": "code",
   "execution_count": 4,
   "id": "e1f08bb0",
   "metadata": {},
   "outputs": [],
   "source": [
    "from scipy.sparse import csr_matrix,identity\n",
    "\n",
    "def create_sparse_adj_matrix(df, num_nodes):\n",
    "    rows = []\n",
    "    cols = []\n",
    "    data = []\n",
    "\n",
    "    for index, row in df.iterrows():\n",
    "        source_node = row[0] - 1  # Adjusting for 0-based indexing\n",
    "        target_node = row[1] - 1  # Adjusting for 0-based indexing\n",
    "        weight = row[2]\n",
    "        \n",
    "        rows.append(source_node)\n",
    "        cols.append(target_node)\n",
    "        data.append(weight)\n",
    "\n",
    "    adj_matrix = csr_matrix((data, (rows, cols)), shape=(num_nodes, num_nodes))\n",
    "    return adj_matrix\n",
    "\n",
    "num_nodes = number_nodes  # Specify the number of nodes\n",
    "sparse_adj_matrix = create_sparse_adj_matrix(df, num_nodes)"
   ]
  },
  {
   "cell_type": "markdown",
   "id": "06b12e50",
   "metadata": {},
   "source": [
    "## a) Find the vector π with\n",
    "### i) the Power method\n",
    "### ii) solving the corresponding system"
   ]
  },
  {
   "cell_type": "markdown",
   "id": "fafddb4b",
   "metadata": {},
   "source": [
    "## Power Method (a = 0.85)"
   ]
  },
  {
   "cell_type": "markdown",
   "id": "b96531e2",
   "metadata": {},
   "source": [
    "Initializing hyperparameters a, tolerance, vector a, X0 and v vector for the power method"
   ]
  },
  {
   "cell_type": "code",
   "execution_count": 5,
   "id": "756b24e1",
   "metadata": {},
   "outputs": [],
   "source": [
    "a = 0.85\n",
    "stopping_criterion = 10**(-8) \n",
    "nodes_with_out_links = df[0].unique()\n",
    "a_vector = np.ones(number_nodes)\n",
    "for number in nodes_with_out_links:\n",
    "    a_vector[number-1] = 0\n",
    "x_0_T = (np.ones(number_nodes)/number_nodes).T\n",
    "v = (np.ones(number_nodes)/number_nodes).T"
   ]
  },
  {
   "cell_type": "markdown",
   "id": "5ca2e5ca",
   "metadata": {},
   "source": [
    "We create a method that iteratively computes αx(k−1)T P + (αx(k−1)T a + (1 − α))vT , as seen in the pagerank paper."
   ]
  },
  {
   "cell_type": "code",
   "execution_count": 6,
   "id": "3775bb64",
   "metadata": {},
   "outputs": [],
   "source": [
    "import time\n",
    "\n",
    "def power_method(M,x,a,a_vector,v,stopping_criterion, max_iterations):\n",
    "    start_time = time.time()\n",
    "    for k in range(max_iterations):\n",
    "        x_old = x\n",
    "        x = M.T.dot(a*x_old) + (np.dot(a*x_old,a_vector)+(1-a))*v.T\n",
    "        if np.linalg.norm(x - x_old, 2) < stopping_criterion:\n",
    "            break\n",
    "    print(f\"Iterations: {k+1}\")\n",
    "    end_time = time.time()  # Record the end time\n",
    "    elapsed_time = end_time - start_time  # Calculate elapsed time\n",
    "    print(f\"Time taken: {elapsed_time} seconds\")  # Print the elapsed time\n",
    "    return x"
   ]
  },
  {
   "cell_type": "code",
   "execution_count": 7,
   "id": "18e7a945",
   "metadata": {},
   "outputs": [
    {
     "name": "stdout",
     "output_type": "stream",
     "text": [
      "Iterations: 72\n",
      "Time taken: 0.5919132232666016 seconds\n"
     ]
    }
   ],
   "source": [
    "# give 10 more iterations from expected 114\n",
    "p = power_method(sparse_adj_matrix,x_0_T,a,a_vector,v,stopping_criterion, 124)"
   ]
  },
  {
   "cell_type": "markdown",
   "id": "07c1bdf6",
   "metadata": {},
   "source": [
    "After 0.6 seconds and 72 iterations the method returned the pagerank vector p."
   ]
  },
  {
   "cell_type": "code",
   "execution_count": 8,
   "id": "243cd01a",
   "metadata": {},
   "outputs": [
    {
     "name": "stdout",
     "output_type": "stream",
     "text": [
      "[5.33366163e-07 1.17178113e-04 8.27158893e-07 ... 5.37022302e-07\n",
      " 1.80873750e-06 1.47923201e-06]\n"
     ]
    }
   ],
   "source": [
    "np.save('pagerank_powers_method_085.npy', p)\n",
    "print(p)"
   ]
  },
  {
   "cell_type": "markdown",
   "id": "77bf33bd",
   "metadata": {},
   "source": [
    "The top 50 pages node numbers from 50-1 can be seen below"
   ]
  },
  {
   "cell_type": "code",
   "execution_count": 9,
   "id": "e9b364bb",
   "metadata": {},
   "outputs": [
    {
     "name": "stdout",
     "output_type": "stream",
     "text": [
      "Indices of top 50 elements: [222873 258348 214128     91 208542  60440  81435 151428 145892 112742\n",
      "  96745 137632 183004 221087 176790  77999  17781 161890 120708  62478\n",
      " 259455 247241 181701 132695 235496  60210 198090 117152  38342 179645\n",
      " 167295  55788 231363 119479 272442 251796  95163 186750 225872  67756\n",
      "  69358 105607  68889 136821 234704 134832 262860 241454 226411  89073]\n"
     ]
    }
   ],
   "source": [
    "top_50_pm_pagerank = np.argsort(p)[-50:]\n",
    "\n",
    "print(\"Indices of top 50 elements:\", top_50_pm_pagerank+1)"
   ]
  },
  {
   "cell_type": "markdown",
   "id": "ab6f6ead",
   "metadata": {},
   "source": [
    "## Linear System (a = 0.85), Gauss-Seidel Method"
   ]
  },
  {
   "cell_type": "markdown",
   "id": "230c741a",
   "metadata": {},
   "source": [
    "We create a method to produce sparse matrix I-aP."
   ]
  },
  {
   "cell_type": "code",
   "execution_count": 10,
   "id": "78e0d555",
   "metadata": {},
   "outputs": [],
   "source": [
    "from scipy.sparse import eye\n",
    "def subtract_alpha_times_P(P, alpha):\n",
    "    n = P.shape[0]  # Assuming P is a square matrix\n",
    "    I = eye(n, format='csr')  # Creating a sparse identity matrix with the same shape as P\n",
    "    return I - alpha * P\n",
    "I_minus_aP = subtract_alpha_times_P(sparse_adj_matrix, a)"
   ]
  },
  {
   "cell_type": "markdown",
   "id": "be6fb352",
   "metadata": {},
   "source": [
    "This method gets aij from a sparse matrix A."
   ]
  },
  {
   "cell_type": "code",
   "execution_count": 11,
   "id": "a3912f84",
   "metadata": {},
   "outputs": [],
   "source": [
    "def get_A_ij(csr_matrix,i,j):\n",
    "    indptr = csr_matrix.indptr\n",
    "    indices = csr_matrix.indices\n",
    "    data = csr_matrix.data\n",
    "    \n",
    "    start_index = indptr[i]\n",
    "    end_index = indptr[i+1]\n",
    "    \n",
    "    for i in range(start_index, end_index):\n",
    "        if indices[i] == j:\n",
    "            return data[i]\n",
    "    return 0"
   ]
  },
  {
   "cell_type": "markdown",
   "id": "3aa6c5e1",
   "metadata": {},
   "source": [
    "### Algorithm Gauss–Seidel method is\n",
    "    inputs: A, b\n",
    "    output: φ\n",
    "\n",
    "    Choose an initial guess φ to the solution\n",
    "    repeat until convergence\n",
    "        for i from 1 until n do\n",
    "            σ ← 0\n",
    "            for j from 1 until n do\n",
    "                if j ≠ i then\n",
    "                    σ ← σ + aijφj\n",
    "                end if\n",
    "            end (j-loop)\n",
    "            φi ← (bi − σ) / aii\n",
    "        end (i-loop)\n",
    "        check if convergence is reached\n",
    "    end (repeat)"
   ]
  },
  {
   "cell_type": "code",
   "execution_count": 12,
   "id": "34125ff1",
   "metadata": {},
   "outputs": [],
   "source": [
    "def gauss_seidel(A, v, tol=stopping_criterion, max_iter=1000):\n",
    "    start_time = time.time()\n",
    "    n = A.shape[0]\n",
    "    x = np.ones(n)/n\n",
    "    for k in range(max_iter):\n",
    "        x_old = x\n",
    "        for i in range(n):\n",
    "            s = 0\n",
    "            row_slice = A.getrow(i)\n",
    "            for j, val in zip(row_slice.indices, row_slice.data):\n",
    "                if (j != i):\n",
    "                    s += val*x[j]\n",
    "            x[i] = (v[i]-s)/get_A_ij(A,i,i)\n",
    "        if np.linalg.norm(x - x_old, 2) < tol:\n",
    "            print(f\"Iterations: {k+1}\")\n",
    "            break\n",
    "    end_time = time.time()  # Record the end time\n",
    "    elapsed_time = end_time - start_time  # Calculate elapsed time\n",
    "    print(f\"Time taken: {elapsed_time} seconds\")  # Print the elapsed time\n",
    "    return x"
   ]
  },
  {
   "cell_type": "code",
   "execution_count": 13,
   "id": "872aaa28",
   "metadata": {},
   "outputs": [
    {
     "name": "stdout",
     "output_type": "stream",
     "text": [
      "Iterations: 1\n",
      "Time taken: 2890.9925286769867 seconds\n"
     ]
    }
   ],
   "source": [
    "p = gauss_seidel(I_minus_aP.transpose(), v)"
   ]
  },
  {
   "cell_type": "markdown",
   "id": "ef7efa4c",
   "metadata": {},
   "source": [
    "After 1 iteration and 2890 seconds, the method solved the linear system fot I-aP = v and produced the pagerank vector p."
   ]
  },
  {
   "cell_type": "code",
   "execution_count": 14,
   "id": "75f41013",
   "metadata": {},
   "outputs": [
    {
     "name": "stdout",
     "output_type": "stream",
     "text": [
      "[3.54731947e-06 1.81959173e-04 3.97806540e-06 ... 3.57163577e-06\n",
      " 6.82030354e-06 6.99263416e-06]\n"
     ]
    }
   ],
   "source": [
    "print(p)"
   ]
  },
  {
   "cell_type": "code",
   "execution_count": 15,
   "id": "f1b3001b",
   "metadata": {},
   "outputs": [
    {
     "name": "stdout",
     "output_type": "stream",
     "text": [
      "Indices of top 50 elements: [120708 137632 186902  65463 267492 132695 205477 176790 117152 181701\n",
      " 183004  68295  93989 221087 235496 134375 247241 278083 259455 262860\n",
      "  68889 170452 272762  95163 258348 101161 136821 158568  93778  34573\n",
      " 251796 119479  81435  38342 105607 198090 214128 245659 272442 167295\n",
      " 234704  67756 186750  69358 225872 231363 134832  89073 241454 226411]\n"
     ]
    }
   ],
   "source": [
    "top_50_linear_system_pagerank = np.argsort(p)[-50:]\n",
    "\n",
    "print(\"Indices of top 50 elements:\", top_50_linear_system_pagerank+1)"
   ]
  },
  {
   "cell_type": "markdown",
   "id": "99cc233e",
   "metadata": {},
   "source": [
    "The rankings of the 2 methods semm to differ as well as the significant difference in convergance time, with power method finishing very fast in opposition to the very slow linear system method."
   ]
  },
  {
   "cell_type": "code",
   "execution_count": 16,
   "id": "f7eb6343",
   "metadata": {},
   "outputs": [],
   "source": [
    "np.save('pagerank_linear_system_085.npy', p)"
   ]
  },
  {
   "cell_type": "markdown",
   "id": "83550289",
   "metadata": {},
   "source": [
    "## b) Do the previous task with α = 0.99. Your remarks on the convergence speed. Did the ranking of the first 50 nodes changed?"
   ]
  },
  {
   "cell_type": "markdown",
   "id": "0f855df3",
   "metadata": {},
   "source": [
    "## Power Method (a = 0.99)"
   ]
  },
  {
   "cell_type": "code",
   "execution_count": 17,
   "id": "4d2af439",
   "metadata": {},
   "outputs": [
    {
     "name": "stdout",
     "output_type": "stream",
     "text": [
      "Iterations: 1141\n",
      "Time taken: 9.60521650314331 seconds\n",
      "[3.61261719e-08 1.04528616e-04 1.30868895e-07 ... 3.64145986e-08\n",
      " 4.11009438e-07 1.88426140e-07]\n",
      "Indices of top 50 elements: [236644 144494  58612  49047  85040 264187 234962 169234  95366 229580\n",
      "  96196 272762  27904 119822  96745  77999  17781 137632 183004 221087\n",
      " 176790  62478 120708 259455 247241 235496 181701 152337 117152  77084\n",
      "  14785  58048 245765 241454 119479  65580 272442  95163 251796 116530\n",
      "  77988  68889 136821 262860 271409 179645 226411 174665 281772  89073]\n"
     ]
    }
   ],
   "source": [
    "a = 0.99\n",
    "p = power_method(sparse_adj_matrix,x_0_T,a,a_vector,v,stopping_criterion,10000)\n",
    "np.save('pagerank_powers_method_099.npy', p)\n",
    "print(p)\n",
    "top_50_pm_pagerank = np.argsort(p)[-50:]\n",
    "\n",
    "print(\"Indices of top 50 elements:\", top_50_pm_pagerank+1)"
   ]
  },
  {
   "cell_type": "markdown",
   "id": "b5606412",
   "metadata": {},
   "source": [
    "After executing the power method for a= 0.99 we can see that both the pageranks and the convergance time change. The algorithm needed almost 1000 more iterations and 13x the time to converge from the previous value of a."
   ]
  },
  {
   "cell_type": "markdown",
   "id": "f743aa8f",
   "metadata": {},
   "source": [
    "## Linear System (a = 0.99), Gauss-Seidel Method"
   ]
  },
  {
   "cell_type": "code",
   "execution_count": 18,
   "id": "dc504de7",
   "metadata": {},
   "outputs": [
    {
     "name": "stdout",
     "output_type": "stream",
     "text": [
      "Iterations: 1\n",
      "Time taken: 2909.3538916110992 seconds\n",
      "[3.54731947e-06 2.11344655e-04 4.04901179e-06 ... 3.57564081e-06\n",
      " 8.03313499e-06 8.00994118e-06]\n",
      "Indices of top 50 elements: [137632 279368 186902 132695 137798 267492 205477 176790 117152  68295\n",
      " 181701 183004  93989 134375 235496 221087 278083 247241  68889 259455\n",
      "  95163 170452 272762 262860 258348 136821  93778  34573 101161 158568\n",
      " 119479  81435 251796  38342 105607 198090 214128 245659 272442 167295\n",
      " 234704  67756  69358 186750 225872 231363  89073 134832 241454 226411]\n"
     ]
    }
   ],
   "source": [
    "I_minus_aP = subtract_alpha_times_P(sparse_adj_matrix, a)\n",
    "p = gauss_seidel(I_minus_aP.transpose(), v)\n",
    "np.save('pagerank_linear_system_099.npy', p)\n",
    "print(p)\n",
    "top_50_pm_pagerank = np.argsort(p)[-50:]\n",
    "\n",
    "print(\"Indices of top 50 elements:\", top_50_pm_pagerank+1)"
   ]
  },
  {
   "cell_type": "markdown",
   "id": "64b36c1c",
   "metadata": {},
   "source": [
    "The linear system, produced exactly the same pagerank, at the same time and iterations, despite the change of a."
   ]
  },
  {
   "cell_type": "markdown",
   "id": "51638e66",
   "metadata": {},
   "source": [
    "## c) When we use the power method do all the cmponents of π converge at the same speed to their limits? If not which of the converge faster: those that correspond to important nodes or to non important ? Do you observe the same behavior when you find π through the solution of the linear system?"
   ]
  },
  {
   "cell_type": "code",
   "execution_count": 19,
   "id": "a5300e2b",
   "metadata": {},
   "outputs": [],
   "source": [
    "def power_method_conv(M,x,a,a_vector,v,stopping_criterion, max_iterations):\n",
    "    n = M.shape[0]\n",
    "    converged = np.full(n, False)\n",
    "    rate = np.empty(n)\n",
    "    start_time = time.time()\n",
    "    for k in range(max_iterations):\n",
    "        x_old = x\n",
    "        x = M.T.dot(a*x_old) + (np.dot(a*x_old,a_vector)+(1-a))*v.T\n",
    "        delta_array = np.abs(x - x_old)\n",
    "        for i in range(n):\n",
    "            if delta_array[i] <stopping_criterion:\n",
    "                if converged[i] == False:\n",
    "                    converged[i] = True\n",
    "                    rate[i] = k+1\n",
    "        if np.linalg.norm(x - x_old, 2) < stopping_criterion:\n",
    "            break\n",
    "    print(f\"Iterations: {k+1}\")\n",
    "    end_time = time.time()  # Record the end time\n",
    "    elapsed_time = end_time - start_time  # Calculate elapsed time\n",
    "    print(f\"Time taken: {elapsed_time} seconds\")  # Print the elapsed time\n",
    "    return rate"
   ]
  },
  {
   "cell_type": "code",
   "execution_count": 20,
   "id": "5a80a501",
   "metadata": {},
   "outputs": [
    {
     "name": "stdout",
     "output_type": "stream",
     "text": [
      "Iterations: 72\n",
      "Time taken: 12.399399042129517 seconds\n"
     ]
    }
   ],
   "source": [
    "a = 0.85\n",
    "rates = power_method_conv(sparse_adj_matrix,x_0_T,a,a_vector,v,stopping_criterion, 124)"
   ]
  },
  {
   "cell_type": "code",
   "execution_count": 21,
   "id": "0e56daf0",
   "metadata": {},
   "outputs": [
    {
     "data": {
      "text/plain": [
       "array([ 2., 53.,  8., ...,  3., 12., 12.])"
      ]
     },
     "execution_count": 21,
     "metadata": {},
     "output_type": "execute_result"
    }
   ],
   "source": [
    "rates"
   ]
  },
  {
   "cell_type": "code",
   "execution_count": 22,
   "id": "f6c6f843",
   "metadata": {},
   "outputs": [
    {
     "data": {
      "image/png": "[encoded data removed]",
      "text/plain": [
       "<Figure size 640x480 with 1 Axes>"
      ]
     },
     "metadata": {},
     "output_type": "display_data"
    }
   ],
   "source": [
    "import matplotlib.pyplot as plt\n",
    "p = np.load('pagerank_powers_method_085.npy')\n",
    "ranks = np.argsort(p)[::-1] + 1\n",
    "\n",
    "thresholds = np.percentile(ranks, [25, 50, 75])\n",
    "\n",
    "# Assign ranks to buckets\n",
    "bucket_indices = np.digitize(ranks, thresholds)\n",
    "\n",
    "# Create lists to hold rates for each bucket\n",
    "bucket_rates = [[] for _ in range(4)]\n",
    "for i in range(len(ranks)):\n",
    "    bucket_rates[bucket_indices[i] - 1].append(rates[i])\n",
    "\n",
    "# Create box plots\n",
    "plt.boxplot(bucket_rates, labels=[\"Very Low Rank\", \"Low Rank\", \"High Rank\", \"Very High Rank\"],showfliers=False)\n",
    "\n",
    "# Add labels and title\n",
    "plt.xlabel('Rank Distribution')\n",
    "plt.ylabel('Convergance Iterations')\n",
    "plt.title('Convergance Iterations per PageRank Category')\n",
    "\n",
    "# Display plot\n",
    "plt.grid(True)\n",
    "plt.show()"
   ]
  },
  {
   "cell_type": "markdown",
   "id": "4a56712d",
   "metadata": {},
   "source": [
    "At the above box plots, we can see the convergance (in iterations) rate of our nodes, for the power method. For 4 rank clusters of nodes we can see no difference in the distribution of convergance rate. We didn't do the same for the linear system method, as it finished in 1 iteration."
   ]
  },
  {
   "cell_type": "markdown",
   "id": "428a6d11",
   "metadata": {},
   "source": [
    "## a) You now create a new web page X (thus adding a node to the web graph). X has neither in-links, nor out-links. Let ˜π = (˜π1, π˜2, . . . π˜n) denote the vector of new PageRanks of the n old web pages, and x denote the new PageRank of page X: In other words, (˜π1, π˜2, . . . , π˜n, x) is the PageRank vector of the new web graph. Write ˜π and x in terms of r: Comment on how the PageRanks of the older pages changed due to the addition of the new page (remember n is a very large number). Hint: Use the stationary equations to calculate PageRank, not the iterative approach."
   ]
  },
  {
   "cell_type": "code",
   "execution_count": 23,
   "id": "22ab51b0",
   "metadata": {},
   "outputs": [
    {
     "name": "stdout",
     "output_type": "stream",
     "text": [
      "[  1.00238294 220.21896021   1.554523   ...   3.39925504   2.77999814\n",
      "   1.        ]\n",
      "Min: 1.0\n",
      "Max: 21242.016615019602\n"
     ]
    }
   ],
   "source": [
    "import numpy as np\n",
    "from scipy.sparse import csr_matrix\n",
    "\n",
    "def calculate_new_pageranks(old_pageranks, alpha, n):\n",
    "    # Calculate the redistribution factor\n",
    "    r = (1 - alpha) / n\n",
    "    redist_fact = (n-1+alpha)/n\n",
    "    # Adjust the PageRanks of old pages\n",
    "    new_pageranks = redist_fact * old_pageranks\n",
    "\n",
    "    return np.append(new_pageranks,r)\n",
    "\n",
    "# Example usage\n",
    "n = number_nodes  # Number of old pages\n",
    "alpha = 0.85  # Damping factor\n",
    "old_pageranks = np.load('pagerank_powers_method_085.npy')\n",
    "\n",
    "new_pageranks = calculate_new_pageranks(old_pageranks, alpha, n)\n",
    "r = (1 - alpha) / n\n",
    "pr_in_terms_of_r = new_pageranks/r\n",
    "print(pr_in_terms_of_r)\n",
    "print(f\"Min: {min(pr_in_terms_of_r)}\")\n",
    "print(f\"Max: {max(pr_in_terms_of_r)}\")"
   ]
  },
  {
   "cell_type": "markdown",
   "id": "af315283",
   "metadata": {},
   "source": [
    "In the above method, we adjasted the pageranks of the old pages by scaling them by (n-1+a)/n and we gave the new node a pagerank of r (1-a). We can see that the highest ranked node had a pagerank (in terms of r) 0f 21242 and our new node had the lowest, with 1."
   ]
  },
  {
   "cell_type": "code",
   "execution_count": 24,
   "id": "58eb52dd",
   "metadata": {},
   "outputs": [
    {
     "data": {
      "text/plain": [
       "1.2019447284265002e-08"
      ]
     },
     "execution_count": 24,
     "metadata": {},
     "output_type": "execute_result"
    }
   ],
   "source": [
    "norm_difference = np.linalg.norm(old_pageranks - new_pageranks[:-1])\n",
    "norm_difference"
   ]
  },
  {
   "cell_type": "markdown",
   "id": "2df8277a",
   "metadata": {},
   "source": [
    "The difference of the previous with the new pagerank, in l2 norm was the above. We can see that this is a very low number at the ranks of our tolerance level, so the pagerank vector didn't change much by adding X."
   ]
  },
  {
   "cell_type": "code",
   "execution_count": 25,
   "id": "d3e67307",
   "metadata": {},
   "outputs": [
    {
     "data": {
      "text/plain": [
       "5.320979202065959e-07"
      ]
     },
     "execution_count": 25,
     "metadata": {},
     "output_type": "execute_result"
    }
   ],
   "source": [
    "new_pageranks[281903]"
   ]
  },
  {
   "cell_type": "markdown",
   "id": "dfc17629",
   "metadata": {},
   "source": [
    "## b) Unsatisfied with the PageRank of your page X; you create another page Y (with no in-links) that links to X: What are the PageRanks of all the n + 2 pages now? Does the PageRank of X improve?"
   ]
  },
  {
   "cell_type": "code",
   "execution_count": 26,
   "id": "cd7a6604",
   "metadata": {},
   "outputs": [
    {
     "name": "stderr",
     "output_type": "stream",
     "text": [
      "C:\\Users\\vassi\\AppData\\Local\\Temp\\ipykernel_9248\\1224424834.py:2: FutureWarning: The frame.append method is deprecated and will be removed from pandas in a future version. Use pandas.concat instead.\n",
      "  df = df.append(Y, ignore_index=True)\n"
     ]
    },
    {
     "data": {
      "text/html": [
       "<div>\n",
       "<style scoped>\n",
       "    .dataframe tbody tr th:only-of-type {\n",
       "        vertical-align: middle;\n",
       "    }\n",
       "\n",
       "    .dataframe tbody tr th {\n",
       "        vertical-align: top;\n",
       "    }\n",
       "\n",
       "    .dataframe thead th {\n",
       "        text-align: right;\n",
       "    }\n",
       "</style>\n",
       "<table border=\"1\" class=\"dataframe\">\n",
       "  <thead>\n",
       "    <tr style=\"text-align: right;\">\n",
       "      <th></th>\n",
       "      <th>0</th>\n",
       "      <th>1</th>\n",
       "      <th>2</th>\n",
       "    </tr>\n",
       "  </thead>\n",
       "  <tbody>\n",
       "    <tr>\n",
       "      <th>0</th>\n",
       "      <td>1</td>\n",
       "      <td>6548</td>\n",
       "      <td>0.500000</td>\n",
       "    </tr>\n",
       "    <tr>\n",
       "      <th>1</th>\n",
       "      <td>1</td>\n",
       "      <td>15409</td>\n",
       "      <td>0.500000</td>\n",
       "    </tr>\n",
       "    <tr>\n",
       "      <th>2</th>\n",
       "      <td>2</td>\n",
       "      <td>252915</td>\n",
       "      <td>0.032258</td>\n",
       "    </tr>\n",
       "    <tr>\n",
       "      <th>3</th>\n",
       "      <td>2</td>\n",
       "      <td>246897</td>\n",
       "      <td>0.032258</td>\n",
       "    </tr>\n",
       "    <tr>\n",
       "      <th>4</th>\n",
       "      <td>2</td>\n",
       "      <td>251658</td>\n",
       "      <td>0.032258</td>\n",
       "    </tr>\n",
       "    <tr>\n",
       "      <th>...</th>\n",
       "      <td>...</td>\n",
       "      <td>...</td>\n",
       "      <td>...</td>\n",
       "    </tr>\n",
       "    <tr>\n",
       "      <th>2382908</th>\n",
       "      <td>281903</td>\n",
       "      <td>90591</td>\n",
       "      <td>0.142857</td>\n",
       "    </tr>\n",
       "    <tr>\n",
       "      <th>2382909</th>\n",
       "      <td>281903</td>\n",
       "      <td>94440</td>\n",
       "      <td>0.142857</td>\n",
       "    </tr>\n",
       "    <tr>\n",
       "      <th>2382910</th>\n",
       "      <td>281903</td>\n",
       "      <td>56088</td>\n",
       "      <td>0.142857</td>\n",
       "    </tr>\n",
       "    <tr>\n",
       "      <th>2382911</th>\n",
       "      <td>281903</td>\n",
       "      <td>44103</td>\n",
       "      <td>0.142857</td>\n",
       "    </tr>\n",
       "    <tr>\n",
       "      <th>2382912</th>\n",
       "      <td>281905</td>\n",
       "      <td>281904</td>\n",
       "      <td>1.000000</td>\n",
       "    </tr>\n",
       "  </tbody>\n",
       "</table>\n",
       "<p>2382913 rows × 3 columns</p>\n",
       "</div>"
      ],
      "text/plain": [
       "              0       1         2\n",
       "0             1    6548  0.500000\n",
       "1             1   15409  0.500000\n",
       "2             2  252915  0.032258\n",
       "3             2  246897  0.032258\n",
       "4             2  251658  0.032258\n",
       "...         ...     ...       ...\n",
       "2382908  281903   90591  0.142857\n",
       "2382909  281903   94440  0.142857\n",
       "2382910  281903   56088  0.142857\n",
       "2382911  281903   44103  0.142857\n",
       "2382912  281905  281904  1.000000\n",
       "\n",
       "[2382913 rows x 3 columns]"
      ]
     },
     "execution_count": 26,
     "metadata": {},
     "output_type": "execute_result"
    }
   ],
   "source": [
    "Y = {0: 281905, 1: 281904, 2: 1}\n",
    "df = df.append(Y, ignore_index=True)\n",
    "df"
   ]
  },
  {
   "cell_type": "code",
   "execution_count": 27,
   "id": "6e96a043",
   "metadata": {},
   "outputs": [],
   "source": [
    "G = create_sparse_adj_matrix(df, 281905)"
   ]
  },
  {
   "cell_type": "code",
   "execution_count": 28,
   "id": "3a255c91",
   "metadata": {},
   "outputs": [
    {
     "name": "stdout",
     "output_type": "stream",
     "text": [
      "Iterations: 72\n",
      "Time taken: 0.600449800491333 seconds\n"
     ]
    }
   ],
   "source": [
    "a = 0.85\n",
    "number_nodes = max(df[0].max(),df[1].max())\n",
    "stopping_criterion = 10**(-8) \n",
    "nodes_with_out_links = df[0].unique()\n",
    "a_vector = np.ones(number_nodes)\n",
    "for number in nodes_with_out_links:\n",
    "    a_vector[number-1] = 0\n",
    "x_0_T = (np.ones(number_nodes)/number_nodes).T\n",
    "v = (np.ones(number_nodes)/number_nodes).T\n",
    "\n",
    "p = power_method(G,x_0_T,a,a_vector,v,stopping_criterion, 124)"
   ]
  },
  {
   "cell_type": "code",
   "execution_count": 29,
   "id": "12f6e81f",
   "metadata": {},
   "outputs": [],
   "source": [
    "np.save('pagerank_b', p)"
   ]
  },
  {
   "cell_type": "code",
   "execution_count": 30,
   "id": "3b4d25d3",
   "metadata": {},
   "outputs": [
    {
     "name": "stdout",
     "output_type": "stream",
     "text": [
      "[  1.00238906 220.22030501   1.55453249 ...   2.78001511   1.85441977\n",
      "   1.00238906]\n",
      "Min: 1.0023890634435977\n",
      "Max: 21242.146332336124\n"
     ]
    }
   ],
   "source": [
    "r = (1 - alpha) / number_nodes\n",
    "pr_in_terms_of_r = p/r\n",
    "print(pr_in_terms_of_r)\n",
    "print(f\"Min: {min(pr_in_terms_of_r)}\")\n",
    "print(f\"Max: {max(pr_in_terms_of_r)}\")"
   ]
  },
  {
   "cell_type": "code",
   "execution_count": 31,
   "id": "48b243b9",
   "metadata": {},
   "outputs": [
    {
     "data": {
      "text/plain": [
       "1.8544197674202034"
      ]
     },
     "execution_count": 31,
     "metadata": {},
     "output_type": "execute_result"
    }
   ],
   "source": [
    "p[281903]/r"
   ]
  },
  {
   "cell_type": "markdown",
   "id": "a1d6b6a8",
   "metadata": {},
   "source": [
    "After adding node Y and pointing it  to X we can see that the ranking in terms of r increased to 1.85 from 1. It is still low but not the current lowest since it's no more a node without connections."
   ]
  },
  {
   "cell_type": "code",
   "execution_count": 32,
   "id": "0f1037ed",
   "metadata": {},
   "outputs": [
    {
     "data": {
      "text/plain": [
       "1.0023890634435977"
      ]
     },
     "execution_count": 32,
     "metadata": {},
     "output_type": "execute_result"
    }
   ],
   "source": [
    "p[281904]/r"
   ]
  },
  {
   "cell_type": "markdown",
   "id": "4a80f38a",
   "metadata": {},
   "source": [
    "## c) Still unsatisfied, you create a third page Z: How should you set up the links on your three pages so as to maximize the PageRank of X?"
   ]
  },
  {
   "cell_type": "code",
   "execution_count": 33,
   "id": "85f91eee",
   "metadata": {},
   "outputs": [
    {
     "data": {
      "text/html": [
       "<div>\n",
       "<style scoped>\n",
       "    .dataframe tbody tr th:only-of-type {\n",
       "        vertical-align: middle;\n",
       "    }\n",
       "\n",
       "    .dataframe tbody tr th {\n",
       "        vertical-align: top;\n",
       "    }\n",
       "\n",
       "    .dataframe thead th {\n",
       "        text-align: right;\n",
       "    }\n",
       "</style>\n",
       "<table border=\"1\" class=\"dataframe\">\n",
       "  <thead>\n",
       "    <tr style=\"text-align: right;\">\n",
       "      <th></th>\n",
       "      <th>0</th>\n",
       "      <th>1</th>\n",
       "      <th>2</th>\n",
       "    </tr>\n",
       "  </thead>\n",
       "  <tbody>\n",
       "    <tr>\n",
       "      <th>0</th>\n",
       "      <td>1</td>\n",
       "      <td>6548</td>\n",
       "      <td>0.500000</td>\n",
       "    </tr>\n",
       "    <tr>\n",
       "      <th>1</th>\n",
       "      <td>1</td>\n",
       "      <td>15409</td>\n",
       "      <td>0.500000</td>\n",
       "    </tr>\n",
       "    <tr>\n",
       "      <th>2</th>\n",
       "      <td>2</td>\n",
       "      <td>252915</td>\n",
       "      <td>0.032258</td>\n",
       "    </tr>\n",
       "    <tr>\n",
       "      <th>3</th>\n",
       "      <td>2</td>\n",
       "      <td>246897</td>\n",
       "      <td>0.032258</td>\n",
       "    </tr>\n",
       "    <tr>\n",
       "      <th>4</th>\n",
       "      <td>2</td>\n",
       "      <td>251658</td>\n",
       "      <td>0.032258</td>\n",
       "    </tr>\n",
       "    <tr>\n",
       "      <th>...</th>\n",
       "      <td>...</td>\n",
       "      <td>...</td>\n",
       "      <td>...</td>\n",
       "    </tr>\n",
       "    <tr>\n",
       "      <th>2382908</th>\n",
       "      <td>281903</td>\n",
       "      <td>90591</td>\n",
       "      <td>0.142857</td>\n",
       "    </tr>\n",
       "    <tr>\n",
       "      <th>2382909</th>\n",
       "      <td>281903</td>\n",
       "      <td>94440</td>\n",
       "      <td>0.142857</td>\n",
       "    </tr>\n",
       "    <tr>\n",
       "      <th>2382910</th>\n",
       "      <td>281903</td>\n",
       "      <td>56088</td>\n",
       "      <td>0.142857</td>\n",
       "    </tr>\n",
       "    <tr>\n",
       "      <th>2382911</th>\n",
       "      <td>281903</td>\n",
       "      <td>44103</td>\n",
       "      <td>0.142857</td>\n",
       "    </tr>\n",
       "    <tr>\n",
       "      <th>2382912</th>\n",
       "      <td>281905</td>\n",
       "      <td>281904</td>\n",
       "      <td>1.000000</td>\n",
       "    </tr>\n",
       "  </tbody>\n",
       "</table>\n",
       "<p>2382913 rows × 3 columns</p>\n",
       "</div>"
      ],
      "text/plain": [
       "              0       1         2\n",
       "0             1    6548  0.500000\n",
       "1             1   15409  0.500000\n",
       "2             2  252915  0.032258\n",
       "3             2  246897  0.032258\n",
       "4             2  251658  0.032258\n",
       "...         ...     ...       ...\n",
       "2382908  281903   90591  0.142857\n",
       "2382909  281903   94440  0.142857\n",
       "2382910  281903   56088  0.142857\n",
       "2382911  281903   44103  0.142857\n",
       "2382912  281905  281904  1.000000\n",
       "\n",
       "[2382913 rows x 3 columns]"
      ]
     },
     "execution_count": 33,
     "metadata": {},
     "output_type": "execute_result"
    }
   ],
   "source": [
    "df"
   ]
  },
  {
   "cell_type": "code",
   "execution_count": 34,
   "id": "e92d73c0",
   "metadata": {},
   "outputs": [
    {
     "data": {
      "text/html": [
       "<div>\n",
       "<style scoped>\n",
       "    .dataframe tbody tr th:only-of-type {\n",
       "        vertical-align: middle;\n",
       "    }\n",
       "\n",
       "    .dataframe tbody tr th {\n",
       "        vertical-align: top;\n",
       "    }\n",
       "\n",
       "    .dataframe thead th {\n",
       "        text-align: right;\n",
       "    }\n",
       "</style>\n",
       "<table border=\"1\" class=\"dataframe\">\n",
       "  <thead>\n",
       "    <tr style=\"text-align: right;\">\n",
       "      <th></th>\n",
       "      <th>0</th>\n",
       "      <th>1</th>\n",
       "      <th>2</th>\n",
       "    </tr>\n",
       "  </thead>\n",
       "  <tbody>\n",
       "    <tr>\n",
       "      <th>0</th>\n",
       "      <td>1</td>\n",
       "      <td>6548</td>\n",
       "      <td>0.500000</td>\n",
       "    </tr>\n",
       "    <tr>\n",
       "      <th>1</th>\n",
       "      <td>1</td>\n",
       "      <td>15409</td>\n",
       "      <td>0.500000</td>\n",
       "    </tr>\n",
       "    <tr>\n",
       "      <th>2</th>\n",
       "      <td>2</td>\n",
       "      <td>252915</td>\n",
       "      <td>0.032258</td>\n",
       "    </tr>\n",
       "    <tr>\n",
       "      <th>3</th>\n",
       "      <td>2</td>\n",
       "      <td>246897</td>\n",
       "      <td>0.032258</td>\n",
       "    </tr>\n",
       "    <tr>\n",
       "      <th>4</th>\n",
       "      <td>2</td>\n",
       "      <td>251658</td>\n",
       "      <td>0.032258</td>\n",
       "    </tr>\n",
       "    <tr>\n",
       "      <th>...</th>\n",
       "      <td>...</td>\n",
       "      <td>...</td>\n",
       "      <td>...</td>\n",
       "    </tr>\n",
       "    <tr>\n",
       "      <th>2382908</th>\n",
       "      <td>281903</td>\n",
       "      <td>90591</td>\n",
       "      <td>0.142857</td>\n",
       "    </tr>\n",
       "    <tr>\n",
       "      <th>2382909</th>\n",
       "      <td>281903</td>\n",
       "      <td>94440</td>\n",
       "      <td>0.142857</td>\n",
       "    </tr>\n",
       "    <tr>\n",
       "      <th>2382910</th>\n",
       "      <td>281903</td>\n",
       "      <td>56088</td>\n",
       "      <td>0.142857</td>\n",
       "    </tr>\n",
       "    <tr>\n",
       "      <th>2382911</th>\n",
       "      <td>281903</td>\n",
       "      <td>44103</td>\n",
       "      <td>0.142857</td>\n",
       "    </tr>\n",
       "    <tr>\n",
       "      <th>2382912</th>\n",
       "      <td>281905</td>\n",
       "      <td>281904</td>\n",
       "      <td>0.500000</td>\n",
       "    </tr>\n",
       "  </tbody>\n",
       "</table>\n",
       "<p>2382913 rows × 3 columns</p>\n",
       "</div>"
      ],
      "text/plain": [
       "              0       1         2\n",
       "0             1    6548  0.500000\n",
       "1             1   15409  0.500000\n",
       "2             2  252915  0.032258\n",
       "3             2  246897  0.032258\n",
       "4             2  251658  0.032258\n",
       "...         ...     ...       ...\n",
       "2382908  281903   90591  0.142857\n",
       "2382909  281903   94440  0.142857\n",
       "2382910  281903   56088  0.142857\n",
       "2382911  281903   44103  0.142857\n",
       "2382912  281905  281904  0.500000\n",
       "\n",
       "[2382913 rows x 3 columns]"
      ]
     },
     "execution_count": 34,
     "metadata": {},
     "output_type": "execute_result"
    }
   ],
   "source": [
    "df.iat[2382912, 2] = 1/2\n",
    "df"
   ]
  },
  {
   "cell_type": "code",
   "execution_count": 35,
   "id": "8b92e531",
   "metadata": {},
   "outputs": [
    {
     "name": "stderr",
     "output_type": "stream",
     "text": [
      "C:\\Users\\vassi\\AppData\\Local\\Temp\\ipykernel_9248\\2904668912.py:6: FutureWarning: The frame.append method is deprecated and will be removed from pandas in a future version. Use pandas.concat instead.\n",
      "  df = df.append(Y2, ignore_index=True)\n",
      "C:\\Users\\vassi\\AppData\\Local\\Temp\\ipykernel_9248\\2904668912.py:7: FutureWarning: The frame.append method is deprecated and will be removed from pandas in a future version. Use pandas.concat instead.\n",
      "  df = df.append(Z1, ignore_index=True)\n",
      "C:\\Users\\vassi\\AppData\\Local\\Temp\\ipykernel_9248\\2904668912.py:8: FutureWarning: The frame.append method is deprecated and will be removed from pandas in a future version. Use pandas.concat instead.\n",
      "  df = df.append(Z2, ignore_index=True)\n",
      "C:\\Users\\vassi\\AppData\\Local\\Temp\\ipykernel_9248\\2904668912.py:9: FutureWarning: The frame.append method is deprecated and will be removed from pandas in a future version. Use pandas.concat instead.\n",
      "  df = df.append(X1, ignore_index=True)\n",
      "C:\\Users\\vassi\\AppData\\Local\\Temp\\ipykernel_9248\\2904668912.py:10: FutureWarning: The frame.append method is deprecated and will be removed from pandas in a future version. Use pandas.concat instead.\n",
      "  df = df.append(X2, ignore_index=True)\n"
     ]
    },
    {
     "data": {
      "text/html": [
       "<div>\n",
       "<style scoped>\n",
       "    .dataframe tbody tr th:only-of-type {\n",
       "        vertical-align: middle;\n",
       "    }\n",
       "\n",
       "    .dataframe tbody tr th {\n",
       "        vertical-align: top;\n",
       "    }\n",
       "\n",
       "    .dataframe thead th {\n",
       "        text-align: right;\n",
       "    }\n",
       "</style>\n",
       "<table border=\"1\" class=\"dataframe\">\n",
       "  <thead>\n",
       "    <tr style=\"text-align: right;\">\n",
       "      <th></th>\n",
       "      <th>0</th>\n",
       "      <th>1</th>\n",
       "      <th>2</th>\n",
       "    </tr>\n",
       "  </thead>\n",
       "  <tbody>\n",
       "    <tr>\n",
       "      <th>0</th>\n",
       "      <td>1.0</td>\n",
       "      <td>6548.0</td>\n",
       "      <td>0.500000</td>\n",
       "    </tr>\n",
       "    <tr>\n",
       "      <th>1</th>\n",
       "      <td>1.0</td>\n",
       "      <td>15409.0</td>\n",
       "      <td>0.500000</td>\n",
       "    </tr>\n",
       "    <tr>\n",
       "      <th>2</th>\n",
       "      <td>2.0</td>\n",
       "      <td>252915.0</td>\n",
       "      <td>0.032258</td>\n",
       "    </tr>\n",
       "    <tr>\n",
       "      <th>3</th>\n",
       "      <td>2.0</td>\n",
       "      <td>246897.0</td>\n",
       "      <td>0.032258</td>\n",
       "    </tr>\n",
       "    <tr>\n",
       "      <th>4</th>\n",
       "      <td>2.0</td>\n",
       "      <td>251658.0</td>\n",
       "      <td>0.032258</td>\n",
       "    </tr>\n",
       "    <tr>\n",
       "      <th>...</th>\n",
       "      <td>...</td>\n",
       "      <td>...</td>\n",
       "      <td>...</td>\n",
       "    </tr>\n",
       "    <tr>\n",
       "      <th>2382913</th>\n",
       "      <td>281905.0</td>\n",
       "      <td>281906.0</td>\n",
       "      <td>0.500000</td>\n",
       "    </tr>\n",
       "    <tr>\n",
       "      <th>2382914</th>\n",
       "      <td>281906.0</td>\n",
       "      <td>281904.0</td>\n",
       "      <td>0.500000</td>\n",
       "    </tr>\n",
       "    <tr>\n",
       "      <th>2382915</th>\n",
       "      <td>281906.0</td>\n",
       "      <td>281905.0</td>\n",
       "      <td>0.500000</td>\n",
       "    </tr>\n",
       "    <tr>\n",
       "      <th>2382916</th>\n",
       "      <td>281904.0</td>\n",
       "      <td>281905.0</td>\n",
       "      <td>0.500000</td>\n",
       "    </tr>\n",
       "    <tr>\n",
       "      <th>2382917</th>\n",
       "      <td>281904.0</td>\n",
       "      <td>281906.0</td>\n",
       "      <td>0.500000</td>\n",
       "    </tr>\n",
       "  </tbody>\n",
       "</table>\n",
       "<p>2382918 rows × 3 columns</p>\n",
       "</div>"
      ],
      "text/plain": [
       "                0         1         2\n",
       "0             1.0    6548.0  0.500000\n",
       "1             1.0   15409.0  0.500000\n",
       "2             2.0  252915.0  0.032258\n",
       "3             2.0  246897.0  0.032258\n",
       "4             2.0  251658.0  0.032258\n",
       "...           ...       ...       ...\n",
       "2382913  281905.0  281906.0  0.500000\n",
       "2382914  281906.0  281904.0  0.500000\n",
       "2382915  281906.0  281905.0  0.500000\n",
       "2382916  281904.0  281905.0  0.500000\n",
       "2382917  281904.0  281906.0  0.500000\n",
       "\n",
       "[2382918 rows x 3 columns]"
      ]
     },
     "execution_count": 35,
     "metadata": {},
     "output_type": "execute_result"
    }
   ],
   "source": [
    "Y2 = {0: 281905, 1: 281906, 2: 1/2}\n",
    "Z1 = {0: 281906, 1: 281904, 2: 1/2}\n",
    "Z2 = {0: 281906, 1: 281905, 2: 1/2}\n",
    "X1 = {0: 281904, 1: 281905, 2: 1/2}\n",
    "X2 = {0: 281904, 1: 281906, 2: 1/2}\n",
    "df = df.append(Y2, ignore_index=True)\n",
    "df = df.append(Z1, ignore_index=True)\n",
    "df = df.append(Z2, ignore_index=True)\n",
    "df = df.append(X1, ignore_index=True)\n",
    "df = df.append(X2, ignore_index=True)\n",
    "df"
   ]
  },
  {
   "cell_type": "code",
   "execution_count": 36,
   "id": "054c3b91",
   "metadata": {},
   "outputs": [
    {
     "data": {
      "text/html": [
       "<div>\n",
       "<style scoped>\n",
       "    .dataframe tbody tr th:only-of-type {\n",
       "        vertical-align: middle;\n",
       "    }\n",
       "\n",
       "    .dataframe tbody tr th {\n",
       "        vertical-align: top;\n",
       "    }\n",
       "\n",
       "    .dataframe thead th {\n",
       "        text-align: right;\n",
       "    }\n",
       "</style>\n",
       "<table border=\"1\" class=\"dataframe\">\n",
       "  <thead>\n",
       "    <tr style=\"text-align: right;\">\n",
       "      <th></th>\n",
       "      <th>0</th>\n",
       "      <th>1</th>\n",
       "      <th>2</th>\n",
       "    </tr>\n",
       "  </thead>\n",
       "  <tbody>\n",
       "    <tr>\n",
       "      <th>0</th>\n",
       "      <td>1</td>\n",
       "      <td>6548</td>\n",
       "      <td>0.500000</td>\n",
       "    </tr>\n",
       "    <tr>\n",
       "      <th>1</th>\n",
       "      <td>1</td>\n",
       "      <td>15409</td>\n",
       "      <td>0.500000</td>\n",
       "    </tr>\n",
       "    <tr>\n",
       "      <th>2</th>\n",
       "      <td>2</td>\n",
       "      <td>252915</td>\n",
       "      <td>0.032258</td>\n",
       "    </tr>\n",
       "    <tr>\n",
       "      <th>3</th>\n",
       "      <td>2</td>\n",
       "      <td>246897</td>\n",
       "      <td>0.032258</td>\n",
       "    </tr>\n",
       "    <tr>\n",
       "      <th>4</th>\n",
       "      <td>2</td>\n",
       "      <td>251658</td>\n",
       "      <td>0.032258</td>\n",
       "    </tr>\n",
       "    <tr>\n",
       "      <th>...</th>\n",
       "      <td>...</td>\n",
       "      <td>...</td>\n",
       "      <td>...</td>\n",
       "    </tr>\n",
       "    <tr>\n",
       "      <th>2382913</th>\n",
       "      <td>281905</td>\n",
       "      <td>281906</td>\n",
       "      <td>0.500000</td>\n",
       "    </tr>\n",
       "    <tr>\n",
       "      <th>2382914</th>\n",
       "      <td>281906</td>\n",
       "      <td>281904</td>\n",
       "      <td>0.500000</td>\n",
       "    </tr>\n",
       "    <tr>\n",
       "      <th>2382915</th>\n",
       "      <td>281906</td>\n",
       "      <td>281905</td>\n",
       "      <td>0.500000</td>\n",
       "    </tr>\n",
       "    <tr>\n",
       "      <th>2382916</th>\n",
       "      <td>281904</td>\n",
       "      <td>281905</td>\n",
       "      <td>0.500000</td>\n",
       "    </tr>\n",
       "    <tr>\n",
       "      <th>2382917</th>\n",
       "      <td>281904</td>\n",
       "      <td>281906</td>\n",
       "      <td>0.500000</td>\n",
       "    </tr>\n",
       "  </tbody>\n",
       "</table>\n",
       "<p>2382918 rows × 3 columns</p>\n",
       "</div>"
      ],
      "text/plain": [
       "              0       1         2\n",
       "0             1    6548  0.500000\n",
       "1             1   15409  0.500000\n",
       "2             2  252915  0.032258\n",
       "3             2  246897  0.032258\n",
       "4             2  251658  0.032258\n",
       "...         ...     ...       ...\n",
       "2382913  281905  281906  0.500000\n",
       "2382914  281906  281904  0.500000\n",
       "2382915  281906  281905  0.500000\n",
       "2382916  281904  281905  0.500000\n",
       "2382917  281904  281906  0.500000\n",
       "\n",
       "[2382918 rows x 3 columns]"
      ]
     },
     "execution_count": 36,
     "metadata": {},
     "output_type": "execute_result"
    }
   ],
   "source": [
    "df[0] = df[0].astype(int)\n",
    "df[1] = df[1].astype(int)\n",
    "df"
   ]
  },
  {
   "cell_type": "markdown",
   "id": "6569e247",
   "metadata": {},
   "source": [
    "In this setup we created a node Z and made X,Y and Z to all point to each other. That way we increase the PageRank of each one beacause it is pointed by higher rank nodes."
   ]
  },
  {
   "cell_type": "code",
   "execution_count": 37,
   "id": "8ff4dffa",
   "metadata": {},
   "outputs": [
    {
     "name": "stdout",
     "output_type": "stream",
     "text": [
      "Iterations: 72\n",
      "Time taken: 0.6293494701385498 seconds\n",
      "[  1.00238345 220.21907181   1.55452378 ...   6.68255629   6.68255629\n",
      "   6.68255629]\n",
      "Min: 1.0023834501948914\n",
      "Max: 21242.02737906444\n",
      "6.682556287515025\n"
     ]
    }
   ],
   "source": [
    "G = create_sparse_adj_matrix(df, 281906)\n",
    "number_nodes = max(df[0].max(),df[1].max())\n",
    "stopping_criterion = 10**(-8) \n",
    "nodes_with_out_links = df[0].unique()\n",
    "a_vector = np.ones(number_nodes)\n",
    "for number in nodes_with_out_links:\n",
    "    a_vector[number-1] = 0\n",
    "x_0_T = (np.ones(number_nodes)/number_nodes).T\n",
    "v = (np.ones(number_nodes)/number_nodes).T\n",
    "\n",
    "p = power_method(G,x_0_T,a,a_vector,v,stopping_criterion, 124)\n",
    "np.save('pagerank_c', p)\n",
    "r = (1 - alpha) / number_nodes\n",
    "pr_in_terms_of_r = p/r\n",
    "print(pr_in_terms_of_r)\n",
    "print(f\"Min: {min(pr_in_terms_of_r)}\")\n",
    "print(f\"Max: {max(pr_in_terms_of_r)}\")\n",
    "print(p[281903]/r)"
   ]
  },
  {
   "cell_type": "markdown",
   "id": "d55493ab",
   "metadata": {},
   "source": [
    "Here we can see that our node X got a ranking, in terms of r, of 6.7 an increase from the previous 1.85."
   ]
  },
  {
   "cell_type": "markdown",
   "id": "6eaea508",
   "metadata": {},
   "source": [
    "## d) You have one last idea, you add links from your page X to older, popular pages (e.g.: you add a list of ?Useful links? on your page). Does this improve the PageRank of X? Does the answer change if you add links from Y or Z to older, popular pages?"
   ]
  },
  {
   "cell_type": "code",
   "execution_count": 38,
   "id": "4a3f3865",
   "metadata": {},
   "outputs": [
    {
     "data": {
      "text/plain": [
       "array([134831, 262859, 241453, 226410,  89072], dtype=int64)"
      ]
     },
     "execution_count": 38,
     "metadata": {},
     "output_type": "execute_result"
    }
   ],
   "source": [
    "top_50_pm_pagerank = np.argsort(p)[-5:]\n",
    "top_50_pm_pagerank"
   ]
  },
  {
   "cell_type": "code",
   "execution_count": 39,
   "id": "3fa0ce11",
   "metadata": {},
   "outputs": [
    {
     "name": "stderr",
     "output_type": "stream",
     "text": [
      "C:\\Users\\vassi\\AppData\\Local\\Temp\\ipykernel_9248\\3015387900.py:6: FutureWarning: The frame.append method is deprecated and will be removed from pandas in a future version. Use pandas.concat instead.\n",
      "  df = df.append(X1, ignore_index=True)\n",
      "C:\\Users\\vassi\\AppData\\Local\\Temp\\ipykernel_9248\\3015387900.py:7: FutureWarning: The frame.append method is deprecated and will be removed from pandas in a future version. Use pandas.concat instead.\n",
      "  df = df.append(X2, ignore_index=True)\n",
      "C:\\Users\\vassi\\AppData\\Local\\Temp\\ipykernel_9248\\3015387900.py:8: FutureWarning: The frame.append method is deprecated and will be removed from pandas in a future version. Use pandas.concat instead.\n",
      "  df = df.append(X3, ignore_index=True)\n",
      "C:\\Users\\vassi\\AppData\\Local\\Temp\\ipykernel_9248\\3015387900.py:9: FutureWarning: The frame.append method is deprecated and will be removed from pandas in a future version. Use pandas.concat instead.\n",
      "  df = df.append(X4, ignore_index=True)\n",
      "C:\\Users\\vassi\\AppData\\Local\\Temp\\ipykernel_9248\\3015387900.py:10: FutureWarning: The frame.append method is deprecated and will be removed from pandas in a future version. Use pandas.concat instead.\n",
      "  df = df.append(X5, ignore_index=True)\n"
     ]
    },
    {
     "data": {
      "text/html": [
       "<div>\n",
       "<style scoped>\n",
       "    .dataframe tbody tr th:only-of-type {\n",
       "        vertical-align: middle;\n",
       "    }\n",
       "\n",
       "    .dataframe tbody tr th {\n",
       "        vertical-align: top;\n",
       "    }\n",
       "\n",
       "    .dataframe thead th {\n",
       "        text-align: right;\n",
       "    }\n",
       "</style>\n",
       "<table border=\"1\" class=\"dataframe\">\n",
       "  <thead>\n",
       "    <tr style=\"text-align: right;\">\n",
       "      <th></th>\n",
       "      <th>0</th>\n",
       "      <th>1</th>\n",
       "      <th>2</th>\n",
       "    </tr>\n",
       "  </thead>\n",
       "  <tbody>\n",
       "    <tr>\n",
       "      <th>0</th>\n",
       "      <td>1</td>\n",
       "      <td>6548</td>\n",
       "      <td>0.500000</td>\n",
       "    </tr>\n",
       "    <tr>\n",
       "      <th>1</th>\n",
       "      <td>1</td>\n",
       "      <td>15409</td>\n",
       "      <td>0.500000</td>\n",
       "    </tr>\n",
       "    <tr>\n",
       "      <th>2</th>\n",
       "      <td>2</td>\n",
       "      <td>252915</td>\n",
       "      <td>0.032258</td>\n",
       "    </tr>\n",
       "    <tr>\n",
       "      <th>3</th>\n",
       "      <td>2</td>\n",
       "      <td>246897</td>\n",
       "      <td>0.032258</td>\n",
       "    </tr>\n",
       "    <tr>\n",
       "      <th>4</th>\n",
       "      <td>2</td>\n",
       "      <td>251658</td>\n",
       "      <td>0.032258</td>\n",
       "    </tr>\n",
       "    <tr>\n",
       "      <th>...</th>\n",
       "      <td>...</td>\n",
       "      <td>...</td>\n",
       "      <td>...</td>\n",
       "    </tr>\n",
       "    <tr>\n",
       "      <th>2382918</th>\n",
       "      <td>281904</td>\n",
       "      <td>89072</td>\n",
       "      <td>0.142857</td>\n",
       "    </tr>\n",
       "    <tr>\n",
       "      <th>2382919</th>\n",
       "      <td>281904</td>\n",
       "      <td>226410</td>\n",
       "      <td>0.142857</td>\n",
       "    </tr>\n",
       "    <tr>\n",
       "      <th>2382920</th>\n",
       "      <td>281904</td>\n",
       "      <td>241453</td>\n",
       "      <td>0.142857</td>\n",
       "    </tr>\n",
       "    <tr>\n",
       "      <th>2382921</th>\n",
       "      <td>281904</td>\n",
       "      <td>262859</td>\n",
       "      <td>0.142857</td>\n",
       "    </tr>\n",
       "    <tr>\n",
       "      <th>2382922</th>\n",
       "      <td>281904</td>\n",
       "      <td>134831</td>\n",
       "      <td>0.142857</td>\n",
       "    </tr>\n",
       "  </tbody>\n",
       "</table>\n",
       "<p>2382923 rows × 3 columns</p>\n",
       "</div>"
      ],
      "text/plain": [
       "              0       1         2\n",
       "0             1    6548  0.500000\n",
       "1             1   15409  0.500000\n",
       "2             2  252915  0.032258\n",
       "3             2  246897  0.032258\n",
       "4             2  251658  0.032258\n",
       "...         ...     ...       ...\n",
       "2382918  281904   89072  0.142857\n",
       "2382919  281904  226410  0.142857\n",
       "2382920  281904  241453  0.142857\n",
       "2382921  281904  262859  0.142857\n",
       "2382922  281904  134831  0.142857\n",
       "\n",
       "[2382923 rows x 3 columns]"
      ]
     },
     "execution_count": 39,
     "metadata": {},
     "output_type": "execute_result"
    }
   ],
   "source": [
    "X1 = {0: 281904, 1: 89072, 2: 1/2}\n",
    "X2 = {0: 281904, 1: 226410, 2: 1/2}\n",
    "X3 = {0: 281904, 1: 241453, 2: 1/2}\n",
    "X4 = {0: 281904, 1: 262859, 2: 1/2}\n",
    "X5 = {0: 281904, 1: 134831, 2: 1/2}\n",
    "df = df.append(X1, ignore_index=True)\n",
    "df = df.append(X2, ignore_index=True)\n",
    "df = df.append(X3, ignore_index=True)\n",
    "df = df.append(X4, ignore_index=True)\n",
    "df = df.append(X5, ignore_index=True)\n",
    "num = df[df[0] == 281904][2].count()\n",
    "df.loc[df[0] == 281904, 2] = 1/num\n",
    "df[0] = df[0].astype(int)\n",
    "df[1] = df[1].astype(int)\n",
    "df"
   ]
  },
  {
   "cell_type": "code",
   "execution_count": 40,
   "id": "18e64716",
   "metadata": {},
   "outputs": [
    {
     "name": "stdout",
     "output_type": "stream",
     "text": [
      "Iterations: 72\n",
      "Time taken: 0.5963244438171387 seconds\n",
      "[  1.00238345 220.21944132   1.55452398 ...   3.02763814   2.38265257\n",
      "   2.38265257]\n",
      "Min: 1.0023834543129035\n",
      "Max: 21242.096636214475\n",
      "3.027638140287907\n"
     ]
    }
   ],
   "source": [
    "G = create_sparse_adj_matrix(df, 281906)\n",
    "number_nodes = max(df[0].max(),df[1].max())\n",
    "stopping_criterion = 10**(-8) \n",
    "nodes_with_out_links = df[0].unique()\n",
    "a_vector = np.ones(number_nodes)\n",
    "for number in nodes_with_out_links:\n",
    "    a_vector[number-1] = 0\n",
    "x_0_T = (np.ones(number_nodes)/number_nodes).T\n",
    "v = (np.ones(number_nodes)/number_nodes).T\n",
    "\n",
    "p = power_method(G,x_0_T,a,a_vector,v,stopping_criterion, 124)\n",
    "r = (1 - alpha) / number_nodes\n",
    "pr_in_terms_of_r = p/r\n",
    "print(pr_in_terms_of_r)\n",
    "print(f\"Min: {min(pr_in_terms_of_r)}\")\n",
    "print(f\"Max: {max(pr_in_terms_of_r)}\")\n",
    "print(p[281903]/r)"
   ]
  },
  {
   "cell_type": "code",
   "execution_count": 41,
   "id": "635db9f6",
   "metadata": {},
   "outputs": [
    {
     "name": "stderr",
     "output_type": "stream",
     "text": [
      "C:\\Users\\vassi\\AppData\\Local\\Temp\\ipykernel_9248\\196192709.py:6: FutureWarning: The frame.append method is deprecated and will be removed from pandas in a future version. Use pandas.concat instead.\n",
      "  df = df.append(Z1, ignore_index=True)\n",
      "C:\\Users\\vassi\\AppData\\Local\\Temp\\ipykernel_9248\\196192709.py:7: FutureWarning: The frame.append method is deprecated and will be removed from pandas in a future version. Use pandas.concat instead.\n",
      "  df = df.append(Z2, ignore_index=True)\n",
      "C:\\Users\\vassi\\AppData\\Local\\Temp\\ipykernel_9248\\196192709.py:8: FutureWarning: The frame.append method is deprecated and will be removed from pandas in a future version. Use pandas.concat instead.\n",
      "  df = df.append(Z3, ignore_index=True)\n",
      "C:\\Users\\vassi\\AppData\\Local\\Temp\\ipykernel_9248\\196192709.py:9: FutureWarning: The frame.append method is deprecated and will be removed from pandas in a future version. Use pandas.concat instead.\n",
      "  df = df.append(Z4, ignore_index=True)\n",
      "C:\\Users\\vassi\\AppData\\Local\\Temp\\ipykernel_9248\\196192709.py:10: FutureWarning: The frame.append method is deprecated and will be removed from pandas in a future version. Use pandas.concat instead.\n",
      "  df = df.append(Z5, ignore_index=True)\n"
     ]
    },
    {
     "data": {
      "text/html": [
       "<div>\n",
       "<style scoped>\n",
       "    .dataframe tbody tr th:only-of-type {\n",
       "        vertical-align: middle;\n",
       "    }\n",
       "\n",
       "    .dataframe tbody tr th {\n",
       "        vertical-align: top;\n",
       "    }\n",
       "\n",
       "    .dataframe thead th {\n",
       "        text-align: right;\n",
       "    }\n",
       "</style>\n",
       "<table border=\"1\" class=\"dataframe\">\n",
       "  <thead>\n",
       "    <tr style=\"text-align: right;\">\n",
       "      <th></th>\n",
       "      <th>0</th>\n",
       "      <th>1</th>\n",
       "      <th>2</th>\n",
       "    </tr>\n",
       "  </thead>\n",
       "  <tbody>\n",
       "    <tr>\n",
       "      <th>0</th>\n",
       "      <td>1</td>\n",
       "      <td>6548</td>\n",
       "      <td>0.500000</td>\n",
       "    </tr>\n",
       "    <tr>\n",
       "      <th>1</th>\n",
       "      <td>1</td>\n",
       "      <td>15409</td>\n",
       "      <td>0.500000</td>\n",
       "    </tr>\n",
       "    <tr>\n",
       "      <th>2</th>\n",
       "      <td>2</td>\n",
       "      <td>252915</td>\n",
       "      <td>0.032258</td>\n",
       "    </tr>\n",
       "    <tr>\n",
       "      <th>3</th>\n",
       "      <td>2</td>\n",
       "      <td>246897</td>\n",
       "      <td>0.032258</td>\n",
       "    </tr>\n",
       "    <tr>\n",
       "      <th>4</th>\n",
       "      <td>2</td>\n",
       "      <td>251658</td>\n",
       "      <td>0.032258</td>\n",
       "    </tr>\n",
       "    <tr>\n",
       "      <th>...</th>\n",
       "      <td>...</td>\n",
       "      <td>...</td>\n",
       "      <td>...</td>\n",
       "    </tr>\n",
       "    <tr>\n",
       "      <th>2382923</th>\n",
       "      <td>281906</td>\n",
       "      <td>89072</td>\n",
       "      <td>0.142857</td>\n",
       "    </tr>\n",
       "    <tr>\n",
       "      <th>2382924</th>\n",
       "      <td>281906</td>\n",
       "      <td>226410</td>\n",
       "      <td>0.142857</td>\n",
       "    </tr>\n",
       "    <tr>\n",
       "      <th>2382925</th>\n",
       "      <td>281906</td>\n",
       "      <td>241453</td>\n",
       "      <td>0.142857</td>\n",
       "    </tr>\n",
       "    <tr>\n",
       "      <th>2382926</th>\n",
       "      <td>281906</td>\n",
       "      <td>262859</td>\n",
       "      <td>0.142857</td>\n",
       "    </tr>\n",
       "    <tr>\n",
       "      <th>2382927</th>\n",
       "      <td>281906</td>\n",
       "      <td>134831</td>\n",
       "      <td>0.142857</td>\n",
       "    </tr>\n",
       "  </tbody>\n",
       "</table>\n",
       "<p>2382928 rows × 3 columns</p>\n",
       "</div>"
      ],
      "text/plain": [
       "              0       1         2\n",
       "0             1    6548  0.500000\n",
       "1             1   15409  0.500000\n",
       "2             2  252915  0.032258\n",
       "3             2  246897  0.032258\n",
       "4             2  251658  0.032258\n",
       "...         ...     ...       ...\n",
       "2382923  281906   89072  0.142857\n",
       "2382924  281906  226410  0.142857\n",
       "2382925  281906  241453  0.142857\n",
       "2382926  281906  262859  0.142857\n",
       "2382927  281906  134831  0.142857\n",
       "\n",
       "[2382928 rows x 3 columns]"
      ]
     },
     "execution_count": 41,
     "metadata": {},
     "output_type": "execute_result"
    }
   ],
   "source": [
    "Z1 = {0: 281906, 1: 89072, 2: 1/2}\n",
    "Z2 = {0: 281906, 1: 226410, 2: 1/2}\n",
    "Z3 = {0: 281906, 1: 241453, 2: 1/2}\n",
    "Z4 = {0: 281906, 1: 262859, 2: 1/2}\n",
    "Z5 = {0: 281906, 1: 134831, 2: 1/2}\n",
    "df = df.append(Z1, ignore_index=True)\n",
    "df = df.append(Z2, ignore_index=True)\n",
    "df = df.append(Z3, ignore_index=True)\n",
    "df = df.append(Z4, ignore_index=True)\n",
    "df = df.append(Z5, ignore_index=True)\n",
    "num = df[df[0] == 281906][2].count()\n",
    "df.loc[df[0] == 281906, 2] = 1/num\n",
    "df[0] = df[0].astype(int)\n",
    "df[1] = df[1].astype(int)\n",
    "df"
   ]
  },
  {
   "cell_type": "code",
   "execution_count": 42,
   "id": "14a038bc",
   "metadata": {},
   "outputs": [
    {
     "name": "stdout",
     "output_type": "stream",
     "text": [
      "Iterations: 72\n",
      "Time taken: 0.6406350135803223 seconds\n",
      "[  1.00238346 220.21952148   1.55452402 ...   1.8422432    1.44978538\n",
      "   1.8422432 ]\n",
      "Min: 1.0023834552063084\n",
      "Max: 21242.111661585528\n",
      "1.842243199669411\n"
     ]
    }
   ],
   "source": [
    "G = create_sparse_adj_matrix(df, 281906)\n",
    "number_nodes = max(df[0].max(),df[1].max())\n",
    "stopping_criterion = 10**(-8) \n",
    "nodes_with_out_links = df[0].unique()\n",
    "a_vector = np.ones(number_nodes)\n",
    "for number in nodes_with_out_links:\n",
    "    a_vector[number-1] = 0\n",
    "x_0_T = (np.ones(number_nodes)/number_nodes).T\n",
    "v = (np.ones(number_nodes)/number_nodes).T\n",
    "\n",
    "p = power_method(G,x_0_T,a,a_vector,v,stopping_criterion, 124)\n",
    "r = (1 - alpha) / number_nodes\n",
    "pr_in_terms_of_r = p/r\n",
    "print(pr_in_terms_of_r)\n",
    "print(f\"Min: {min(pr_in_terms_of_r)}\")\n",
    "print(f\"Max: {max(pr_in_terms_of_r)}\")\n",
    "print(p[281903]/r)"
   ]
  },
  {
   "cell_type": "markdown",
   "id": "b66af076",
   "metadata": {},
   "source": [
    "What we see above is that in both our efforts, by making X point to the 5 highest rank nodes and making Z do the same, twice the pagerank (in terms of r) of node X decreased(from 6.7 to 3 and from 3 to 1.85). From that we understand that pointing to significant nodes doesn't improve the significance of our node."
   ]
  },
  {
   "cell_type": "markdown",
   "id": "4097ea53",
   "metadata": {},
   "source": [
    "## e) Describe what steps you might take to raise the PageRank of X further. You do not need to prove anything here, just summarize your thoughts based on the previous parts. For extra credit though, you can prove what the structure for a link farm with m nodes should be to optimize the PageRank of X."
   ]
  },
  {
   "cell_type": "markdown",
   "id": "f83fae7b",
   "metadata": {},
   "source": [
    "Based on the previous parts, we understand that to increase the pagerank of X we need to create as many nodes as posssible to X as possible. Not only that, but if we make all these new nodes connected to eachother and thus increasing their pageranks, we can make them more significant and when they point to X and give it a higher rank. X doesn't need to point to any significant node but the new ones we created (to make them more significant). Concluding, we would need to create a farm of nodes densly pointing to eachother and all pointing to X, to increas X node's pagerank.\""
   ]
  },
  {
   "cell_type": "code",
   "execution_count": null,
   "id": "e8ce0742",
   "metadata": {},
   "outputs": [],
   "source": []
  }
 ],
 "metadata": {
  "kernelspec": {
   "display_name": "Python 3 (ipykernel)",
   "language": "python",
   "name": "python3"
  },
  "language_info": {
   "codemirror_mode": {
    "name": "ipython",
    "version": 3
   },
   "file_extension": ".py",
   "mimetype": "text/x-python",
   "name": "python",
   "nbconvert_exporter": "python",
   "pygments_lexer": "ipython3",
   "version": "3.11.4"
  }
 },
 "nbformat": 4,
 "nbformat_minor": 5
}
